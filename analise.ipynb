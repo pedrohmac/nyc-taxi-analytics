{
 "cells": [
  {
   "cell_type": "markdown",
   "metadata": {},
   "source": [
    "nyc_taxy_analytics project"
   ]
  },
  {
   "cell_type": "markdown",
   "metadata": {},
   "source": [
    "Nesse arquivo serão respondidas quatro perguntas utilizando datasets de corridas de taxi de NYC:\n",
    "\n",
    "    1. Qual a distância média percorrida por viagens com no máximo 2 passageiros;\n",
    "    2. Os 3 maiores vendors em quantidade total de dinheiro arrecadado;\n",
    "    3. A distribuição mensal, nos 4 anos, de corridas pagas em dinheiro;\n",
    "    4. A quantidade de gorjetas de cada dia, nos últimos 3 meses de 2012."
   ]
  },
  {
   "cell_type": "markdown",
   "metadata": {},
   "source": [
    "1. A distância média percorrida por viagens com no máximo 2 passageiros:\n",
    "    "
   ]
  },
  {
   "cell_type": "markdown",
   "metadata": {},
   "source": [
    "2,66 milhas ou 4,28 Km\n"
   ]
  },
  {
   "cell_type": "markdown",
   "metadata": {},
   "source": [
    " 2.\n",
    "<img src=\"top_vendors.png\" style=\"height:400px\">"
   ]
  },
  {
   "cell_type": "markdown",
   "metadata": {},
   "source": []
  },
  {
   "cell_type": "markdown",
   "metadata": {},
   "source": [
    "3.\n",
    "<img src='money_paid_trips.png' style=\"height:400px\">"
   ]
  },
  {
   "cell_type": "markdown",
   "metadata": {},
   "source": [
    "4. \n",
    "<img src=\"tips.png\" style=\"height:400px\">\n",
    "\n",
    "*Não foram localizados dados para os últimos dois meses de 2012, apenas até Outubro."
   ]
  }
 ],
 "metadata": {
  "interpreter": {
   "hash": "31f2aee4e71d21fbe5cf8b01ff0e069b9275f58929596ceb00d14d90e3e16cd6"
  },
  "kernelspec": {
   "display_name": "Python 3.8.10 64-bit",
   "name": "python3"
  },
  "language_info": {
   "codemirror_mode": {
    "name": "ipython",
    "version": 3
   },
   "file_extension": ".py",
   "mimetype": "text/x-python",
   "name": "python",
   "nbconvert_exporter": "python",
   "pygments_lexer": "ipython3",
   "version": "3.8.10"
  },
  "orig_nbformat": 4
 },
 "nbformat": 4,
 "nbformat_minor": 2
}
